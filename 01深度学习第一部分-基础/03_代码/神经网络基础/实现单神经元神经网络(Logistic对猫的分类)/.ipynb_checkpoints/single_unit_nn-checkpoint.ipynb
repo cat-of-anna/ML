{
 "cells": [
  {
   "cell_type": "code",
   "execution_count": 2,
   "metadata": {
    "collapsed": true
   },
   "outputs": [],
   "source": [
    "import numpy as np\n",
    "import h5py\n",
    "import scipy\n",
    "from PIL import Image\n",
    "from scipy import ndimage\n",
    "from data import load_dataset"
   ]
  },
  {
   "cell_type": "markdown",
   "metadata": {},
   "source": [
    "## 要求\n",
    "实现一个学习算法的整体结构\n",
    "* 获取并定义模型输入\n",
    "* 初始化参数\n",
    "* 计算成本函数及其梯度\n",
    "* 使用优化算法（梯度下降）\n",
    "    * 循环：\n",
    "    * 计算当前损失（正向传播）\n",
    "    * 计算当前梯度（反向传播）\n",
    "    * 更新参数（梯度下降）\n",
    "\n",
    "请实现相关函数，其中读取数据不需要实现。并在主模型函数中编写逻辑。"
   ]
  },
  {
   "cell_type": "markdown",
   "metadata": {},
   "source": [
    "### 读取数据\n",
    "1、按照向量化伪代码实现的形状要求将样本数据进行转换\n",
    "2、标准化数据处理"
   ]
  },
  {
   "cell_type": "code",
   "execution_count": 19,
   "metadata": {},
   "outputs": [
    {
     "name": "stdout",
     "output_type": "stream",
     "text": [
      "训练集的样本数:  209\n",
      "测试集的样本数:  50\n",
      "train_x形状:  (209, 64, 64, 3)\n",
      "train_y形状:  (1, 209)\n",
      "test_x形状:  (50, 64, 64, 3)\n",
      "test_x形状:  (1, 50)\n"
     ]
    }
   ],
   "source": [
    "train_x, train_y, test_x, test_y, classes = load_dataset()\n",
    "print (\"训练集的样本数: \", train_x.shape[0])\n",
    "print (\"测试集的样本数: \" , test_x.shape[0])\n",
    "print (\"train_x形状: \", train_x.shape)\n",
    "print (\"train_y形状: \", train_y.shape)\n",
    "print (\"test_x形状: \", test_x.shape)\n",
    "print (\"test_x形状: \", test_y.shape)"
   ]
  },
  {
   "cell_type": "code",
   "execution_count": 20,
   "metadata": {},
   "outputs": [
    {
     "name": "stdout",
     "output_type": "stream",
     "text": [
      "(12288, 209) (12288, 50)\n"
     ]
    }
   ],
   "source": [
    "train_x = train_set_x_orig.reshape(train_x.shape[0], -1).T\n",
    "test_x = test_set_x_orig.reshape(test_x.shape[0], -1).T\n",
    "print(train_x.shape, test_x.shape)"
   ]
  },
  {
   "cell_type": "code",
   "execution_count": 21,
   "metadata": {
    "collapsed": true
   },
   "outputs": [],
   "source": [
    "train_x = train_x/255.\n",
    "test_x = test_x/255."
   ]
  },
  {
   "cell_type": "code",
   "execution_count": 36,
   "metadata": {
    "collapsed": true
   },
   "outputs": [],
   "source": [
    "def basic_sigmoid(x):\n",
    "    \"\"\"\n",
    "    计算sigmoid函数\n",
    "    \"\"\"\n",
    "    \n",
    "    ### 开始\n",
    "    s = 1 / (1 + np.exp(-x))\n",
    "    ### 结束\n",
    "    \n",
    "    return s"
   ]
  },
  {
   "cell_type": "markdown",
   "metadata": {
    "collapsed": true
   },
   "source": [
    "### 算法结构实现\n",
    "分别构建算法的不同模块\n",
    "* 初始化参数\n",
    "* 计算成本函数及其梯度\n",
    "* 使用优化算法（梯度下降）\n",
    "    * 循环：\n",
    "    * 计算当前损失（正向传播）\n",
    "    * 计算当前梯度（反向传播）\n",
    "    * 更新参数（梯度下降）\n",
    " \n",
    " <img src=\"images/题目逻辑.png\" style=\"width:600px;height:550px;\">"
   ]
  },
  {
   "cell_type": "markdown",
   "metadata": {
    "collapsed": true
   },
   "source": [
    "### 初始化网络参数"
   ]
  },
  {
   "cell_type": "code",
   "execution_count": 30,
   "metadata": {
    "collapsed": true
   },
   "outputs": [],
   "source": [
    "def initialize_with_zeros(shape):\n",
    "    \"\"\"\n",
    "    创建一个形状为 (shape, 1) 的w参数和b=0.\n",
    "    return:w, b\n",
    "    \"\"\"\n",
    "    \n",
    "    ### 开始\n",
    "\n",
    "    ### 结束\n",
    "\n",
    "    assert(w.shape == (shape, 1))\n",
    "    assert(isinstance(b, float) or isinstance(b, int))\n",
    "    \n",
    "    return w, b"
   ]
  },
  {
   "cell_type": "markdown",
   "metadata": {
    "collapsed": true
   },
   "source": [
    "### 前向和反向传播\n",
    "根据损失函数、前后传播向量化代码"
   ]
  },
  {
   "cell_type": "code",
   "execution_count": 40,
   "metadata": {
    "collapsed": true
   },
   "outputs": [],
   "source": [
    "def propagate(w, b, X, Y):\n",
    "    \"\"\"\n",
    "    参数：w,b,X,Y：网络参数和数据\n",
    "    Return:\n",
    "    损失cost、参数W的梯度dw、参数b的梯度db\n",
    "    \"\"\"\n",
    "    \n",
    "    # 前向传播\n",
    "    ### 开始\n",
    "\n",
    "    ### 结束\n",
    "    \n",
    "    # 反向传播\n",
    "    ### 开始\n",
    "\n",
    "    ### 结束\n",
    "    assert(dw.shape == w.shape)\n",
    "    assert(db.dtype == float)\n",
    "    cost = np.squeeze(cost)\n",
    "    assert(cost.shape == ())\n",
    "    \n",
    "    grads = {\"dw\": dw,\n",
    "             \"db\": db}\n",
    "    \n",
    "    return grads, cost"
   ]
  },
  {
   "cell_type": "markdown",
   "metadata": {},
   "source": [
    "### 优化过程\n",
    "实现优化函数. 全局的参数随着 $w$  $b$ 对损失 $J$进行优化改变. 对参数 $\\theta$实行 $ \\theta = \\theta - \\alpha \\text{ } d\\theta$, 并制定 $\\alpha$ 学习率。"
   ]
  },
  {
   "cell_type": "code",
   "execution_count": 41,
   "metadata": {
    "collapsed": true
   },
   "outputs": [],
   "source": [
    "def optimize(w, b, X, Y, num_iterations, learning_rate):\n",
    "    \"\"\"\n",
    "    参数：\n",
    "    w:权重,b:偏置,X特征,Y目标值,num_iterations总迭代次数,learning_rate学习率\n",
    "    Returns:\n",
    "    params:更新后的参数字典\n",
    "    grads:梯度\n",
    "    costs:损失结果\n",
    "    \"\"\"\n",
    "    \n",
    "    costs = []\n",
    "    \n",
    "    for i in range(num_iterations):\n",
    "        \n",
    "        # 梯度更新计算函数\n",
    "        ### 开始\n",
    "\n",
    "        ### 结束\n",
    "        \n",
    "        if i % 100 == 0:\n",
    "            costs.append(cost)\n",
    "        if i % 100 == 0:\n",
    "            print(\"损失结果 %i: %f\" %(i, cost))\n",
    "    \n",
    "    params = {\"w\": w,\n",
    "              \"b\": b}\n",
    "    \n",
    "    grads = {\"dw\": dw,\n",
    "             \"db\": db}\n",
    "    \n",
    "    return params, grads, costs"
   ]
  },
  {
   "cell_type": "markdown",
   "metadata": {},
   "source": [
    "### 预测函数（不用实现）\n",
    "利用得出的参数来进行测试得出准确率"
   ]
  },
  {
   "cell_type": "code",
   "execution_count": 42,
   "metadata": {
    "collapsed": true
   },
   "outputs": [],
   "source": [
    "def predict(w, b, X):\n",
    "    '''\n",
    "    利用训练好的参数预测\n",
    "    \n",
    "    return：预测结果\n",
    "    '''\n",
    "    \n",
    "    m = X.shape[1]\n",
    "    Y_prediction = np.zeros((1,m))\n",
    "    w = w.reshape(X.shape[0], 1)\n",
    "    \n",
    "    # 计算结果\n",
    "    ### 开始\n",
    "    A = basic_sigmoid(np.dot(w.T, X) + b)\n",
    "    ### 结束\n",
    "\n",
    "    for i in range(A.shape[1]):\n",
    "        \n",
    "        ### 开始\n",
    "        if A[0, i] <= 0.5:\n",
    "            Y_prediction[0, i] = 0\n",
    "        else:\n",
    "            Y_prediction[0, i] = 1\n",
    "        ### 结束\n",
    "    \n",
    "    assert(Y_prediction.shape == (1, m))\n",
    "    \n",
    "    return Y_prediction"
   ]
  },
  {
   "cell_type": "markdown",
   "metadata": {},
   "source": [
    "### 整体逻辑实现"
   ]
  },
  {
   "cell_type": "code",
   "execution_count": 43,
   "metadata": {
    "collapsed": true
   },
   "outputs": [],
   "source": [
    "def model(X_train, Y_train, X_test, Y_test, num_iterations = 2000, learning_rate = 0.5):\n",
    "    \"\"\"\n",
    "    \"\"\"\n",
    "    \n",
    "    ### 开始\n",
    "    \n",
    "    # 初始化参数\n",
    "    \n",
    "\n",
    "    # 梯度下降\n",
    "    \n",
    "    # 获取训练的参数\n",
    "    \n",
    "    # 预测结果\n",
    "    \n",
    "    ### 结束\n",
    "\n",
    "    # 打印准确率\n",
    "    print(\"训练集准确率: {} \".format(100 - np.mean(np.abs(Y_prediction_train - Y_train)) * 100))\n",
    "    print(\"测试集准确率: {} \".format(100 - np.mean(np.abs(Y_prediction_test - Y_test)) * 100))\n",
    "\n",
    "    \n",
    "    d = {\"costs\": costs,\n",
    "         \"Y_prediction_test\": Y_prediction_test, \n",
    "         \"Y_prediction_train\" : Y_prediction_train, \n",
    "         \"w\" : w, \n",
    "         \"b\" : b,\n",
    "         \"learning_rate\" : learning_rate,\n",
    "         \"num_iterations\": num_iterations}\n",
    "    \n",
    "    return d"
   ]
  },
  {
   "cell_type": "markdown",
   "metadata": {},
   "source": [
    "### 测试"
   ]
  },
  {
   "cell_type": "code",
   "execution_count": 44,
   "metadata": {},
   "outputs": [
    {
     "name": "stdout",
     "output_type": "stream",
     "text": [
      "损失结果 0: 0.693147\n",
      "损失结果 100: 0.584508\n",
      "损失结果 200: 0.466949\n",
      "损失结果 300: 0.376007\n",
      "损失结果 400: 0.331463\n",
      "损失结果 500: 0.303273\n",
      "损失结果 600: 0.279880\n",
      "损失结果 700: 0.260042\n",
      "损失结果 800: 0.242941\n",
      "损失结果 900: 0.228004\n",
      "损失结果 1000: 0.214820\n",
      "损失结果 1100: 0.203078\n",
      "损失结果 1200: 0.192544\n",
      "损失结果 1300: 0.183033\n",
      "损失结果 1400: 0.174399\n",
      "损失结果 1500: 0.166521\n",
      "损失结果 1600: 0.159305\n",
      "损失结果 1700: 0.152667\n",
      "损失结果 1800: 0.146542\n",
      "损失结果 1900: 0.140872\n",
      "训练集准确率: 99.04306220095694 %\n",
      "测试集准确率: 70.0 %\n"
     ]
    }
   ],
   "source": [
    "d = model(train_x, train_y, test_x, test_y, num_iterations = 2000, learning_rate = 0.005)"
   ]
  },
  {
   "cell_type": "code",
   "execution_count": null,
   "metadata": {
    "collapsed": true
   },
   "outputs": [],
   "source": []
  }
 ],
 "metadata": {
  "kernelspec": {
   "display_name": "Python 3",
   "language": "python",
   "name": "python3"
  },
  "language_info": {
   "codemirror_mode": {
    "name": "ipython",
    "version": 3
   },
   "file_extension": ".py",
   "mimetype": "text/x-python",
   "name": "python",
   "nbconvert_exporter": "python",
   "pygments_lexer": "ipython3",
   "version": "3.6.0"
  }
 },
 "nbformat": 4,
 "nbformat_minor": 2
}
