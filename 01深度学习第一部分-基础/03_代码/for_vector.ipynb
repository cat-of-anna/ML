{
 "cells": [
  {
   "cell_type": "code",
   "execution_count": 4,
   "metadata": {
    "collapsed": true
   },
   "outputs": [],
   "source": [
    "import numpy as np\n",
    "import time"
   ]
  },
  {
   "cell_type": "code",
   "execution_count": 5,
   "metadata": {
    "collapsed": true
   },
   "outputs": [],
   "source": [
    "# 创建两个向量\n",
    "a = np.random.rand(100000)\n",
    "b = np.random.rand(100000)"
   ]
  },
  {
   "cell_type": "code",
   "execution_count": 14,
   "metadata": {},
   "outputs": [
    {
     "name": "stdout",
     "output_type": "stream",
     "text": [
      "第一种for循环所需时间为：67.87419319152832ms\n"
     ]
    }
   ],
   "source": [
    "# 第一种方法for 循环计算\n",
    "c = 0\n",
    "start = time.time()\n",
    "for i in range(100000):\n",
    "    c += a[i] * b[i]\n",
    "end = time.time()\n",
    "\n",
    "print(\"第一种for循环所需时间为：%s\" % (str(1000*(end-start))) + \"ms\")"
   ]
  },
  {
   "cell_type": "code",
   "execution_count": 16,
   "metadata": {},
   "outputs": [
    {
     "name": "stdout",
     "output_type": "stream",
     "text": [
      "第二种向量化运算所需时间为：0.5435943603515625ms\n"
     ]
    }
   ],
   "source": [
    "# 第二种方法\n",
    "start = time.time()\n",
    "c = np.dot(a, b)\n",
    "end = time.time()\n",
    "print(\"第二种向量化运算所需时间为：%s\" % (str(1000*(end-start))) + \"ms\")"
   ]
  },
  {
   "cell_type": "code",
   "execution_count": null,
   "metadata": {
    "collapsed": true
   },
   "outputs": [],
   "source": []
  }
 ],
 "metadata": {
  "kernelspec": {
   "display_name": "Python 3",
   "language": "python",
   "name": "python3"
  },
  "language_info": {
   "codemirror_mode": {
    "name": "ipython",
    "version": 3
   },
   "file_extension": ".py",
   "mimetype": "text/x-python",
   "name": "python",
   "nbconvert_exporter": "python",
   "pygments_lexer": "ipython3",
   "version": "3.6.0"
  }
 },
 "nbformat": 4,
 "nbformat_minor": 2
}
